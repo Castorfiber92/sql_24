{
 "cells": [
  {
   "cell_type": "markdown",
   "metadata": {},
   "source": [
    "## Muntlig redovisning\n",
    "\n",
    "Genomfördes 2025-01-03"
   ]
  },
  {
   "cell_type": "markdown",
   "metadata": {},
   "source": [
    "## Teoretiska frågor\n",
    "\n",
    "1. Beskriv hur en relationsdatabas fungerar\n",
    "\n",
    "I en relationsdatabas så används tabeller med rader och kolumner för att skapa struktur för datan. För att koppla samlan olika tabeller definerar man nycklar (Primary och Foreign) som kan användas som länkar mellan tabellerna. \n",
    "Ofta representerar en tabell ett koncept, i en industri skulle tex en tabell kunna användas för att beskriva deras samling maskiner. Varje rad (ett \"record\") skulle då representera en maskin, och kolumnerna används för att lista olika egenskaper maskinerna har (tex ID-nummer, vad maskinen producerar, vem som ansvarar för den, var den står mm). Personen som ansvarar för maskinen kanske också står med i en tabell över de anställda, genom användning av nycklar kan då dessa tabeller kopplas ihop. \n",
    "\n",
    "2. Vad menas med CRUD-flödet\n",
    "\n",
    "CRUD är en akronym för de fyra typer av operationer som används när man hanterar data.\n",
    "Create - skapa data\n",
    "Read - läs data\n",
    "Update - Uppdatera data\n",
    "Delete - Ta bort data\n",
    "\n",
    "\n",
    "3. Beskriv kort vad en \"left join\" och en \"inner join\" är. Varför använder man det?\n",
    "\n",
    "Left join och inner join är olika varianter av \"join\" vilket vi använder oss av när vi vill komma åt data från olika tabeller i en databas.\n",
    "En join tar och kombinerar rader från de olika tabeller utifrån gemensamma kolumner. \n",
    "En inner join tar de rader som innehåller matchande värden i båda tabellerna, \n",
    "en left join tar alla värden från den vänstra tabellen och de som matchar från \"den högra\"\n",
    "\n",
    "Om vi tänker oss två tabeller: A (left) och B (right) och mängdlära:\n",
    "left join: A + (A snitt B)\n",
    "inner join: A snitt B\n",
    "\n",
    "Det finns även tex full join och right join. \n",
    "\n",
    "\n",
    "4. Beskriv kort vad en indexering i SQL innebär\n",
    "\n",
    "Indexering används för att underlätta sökande i tabeller, det kan hjälpa oss att begränsa sökandet så att inte alla rader behöver kollas igenom efter rätt information.  \n",
    "När vi anger primärnyckel för en tabell så fungerar den direkt som ett index, även andra typer finns (tex uniqe index och clustred index). \n",
    "\n",
    "Exempel: i en tabell med personnummer (ååmmdd-xxxx) som primärnyckel så kan vi snabbt begränsa sökande till tex personer födda vissa år. \n",
    "\n",
    "Om vinsten med indexering är ökad hastighet vid sökningar så är nackdelen att det tar längre tid att uppdatera/skapa data till tabellen då alla index behöver uppdateras. \n",
    "\n",
    "5. Beskriv kort vad en vy i SQL är\n",
    "\n",
    "En vy fungerar som en tabell med data som användaren kan arbeta med, men arbetet i vyn är begränsat till det som läggs i den vid tillfället den skapades. Användaren kan inte komma åt någon ytterligare data, och om något ändras i vyn så påverkas inte ursprungstabellerna som vyn skapades från. \n",
    "\n",
    "6. Beskriv kort vad en lagrad procedur i SQL är\n",
    "\n",
    "En lagrad procedur i SQL är en egenskriven funktion/kod som sparats i databasen. Anledningar till att implementera lagrade procedurer:  \n",
    "Ökad säkerhet (ger användare möjlighet att genomföra operationer på data dom inte har tillgång till (utan att ha möjlighet att ändra/läsa datan)\n",
    "Mindre jobb (ett sätt att återanvända kod)\n",
    "Minskad nätverkstrafik (endast anropet på procedurn skickas, inte koden för proceduren)\n",
    "\n"
   ]
  },
  {
   "cell_type": "markdown",
   "metadata": {},
   "source": [
    "### Importering av bibliotekt och kod för att förbereda SQL-alchemy."
   ]
  },
  {
   "cell_type": "code",
   "execution_count": 405,
   "metadata": {},
   "outputs": [],
   "source": [
    "import numpy as np\n",
    "import pandas as pd\n",
    "from sqlalchemy import create_engine, URL, inspect\n",
    "import scipy as sci\n",
    "import matplotlib.pyplot as plt\n",
    "import seaborn as sns"
   ]
  },
  {
   "cell_type": "code",
   "execution_count": 406,
   "metadata": {},
   "outputs": [],
   "source": [
    "SERVER = 'localhost'  \n",
    "DATABASE = 'AdventureWorks2022'\n",
    "\n",
    "connection_string = f'DRIVER={{ODBC Driver 18 for SQL Server}};SERVER={SERVER};DATABASE={DATABASE};Trusted_Connection=yes;Encrypt=no'\n",
    "\n",
    "connection_url = URL.create('mssql+pyodbc', query={'odbc_connect': connection_string})\n",
    "\n",
    "engine = create_engine(connection_url)"
   ]
  },
  {
   "cell_type": "code",
   "execution_count": 407,
   "metadata": {},
   "outputs": [],
   "source": [
    "connection = engine.connect()\n",
    "inspector = inspect(engine)"
   ]
  },
  {
   "cell_type": "markdown",
   "metadata": {},
   "source": [
    "### Querys och skapande av dataframes"
   ]
  },
  {
   "cell_type": "code",
   "execution_count": 408,
   "metadata": {},
   "outputs": [],
   "source": [
    "# Overviews for NA and EU data. \n",
    "na_overview = pd.read_sql(sql=\"\"\"\n",
    "SELECT \n",
    "\tC.Name\n",
    "\t,A.Color\n",
    "\t,SUM(B.OrderQTY) AS AmountSold\n",
    "FROM Production.Product AS A\n",
    "LEFT JOIN Sales.SalesOrderDetail AS B\n",
    "\tON A.ProductID = B.ProductID\n",
    "LEFT JOIN Production.ProductSubCategory AS C\n",
    "\tON A.ProductSubcategoryID = C.ProductSubCategoryID\n",
    "LEFT JOIN Sales.SalesOrderHeader AS D\n",
    "\tON B.SalesOrderID = D.SalesOrderID\n",
    "LEFT JOIN Sales.SalesTerritory AS E\n",
    "\tON D.TerritoryID = E.TerritoryID\n",
    "WHERE (A.ProductSubCategoryID IS NOT NULL) AND (A.ProductSubCategoryID < 4) AND (D.TerritoryID <7)\n",
    "GROUP BY\n",
    "\tA.Color\n",
    "\t,C.Name\n",
    "ORDER BY Color, C.Name\n",
    "\"\"\", con=connection) \n",
    "\n",
    "eu_overview = pd.read_sql(sql=\"\"\"\n",
    "SELECT \n",
    "\tC.Name\n",
    "\t,A.Color\n",
    "\t,SUM(B.OrderQTY) AS AmountSold\n",
    "FROM Production.Product AS A\n",
    "LEFT JOIN Sales.SalesOrderDetail AS B\n",
    "\tON A.ProductID = B.ProductID\n",
    "LEFT JOIN Production.ProductSubCategory AS C\n",
    "\tON A.ProductSubcategoryID = C.ProductSubCategoryID\n",
    "LEFT JOIN Sales.SalesOrderHeader AS D\n",
    "\tON B.SalesOrderID = D.SalesOrderID\n",
    "LEFT JOIN Sales.SalesTerritory AS E\n",
    "\tON D.TerritoryID = E.TerritoryID\n",
    "WHERE (A.ProductSubCategoryID IS NOT NULL) AND (A.ProductSubCategoryID < 4) AND (D.TerritoryID = 7 OR D.TerritoryID = 8 OR D.TerritoryID = 10)\n",
    "GROUP BY\n",
    "\tA.Color\n",
    "\t,C.Name\n",
    "ORDER BY Color, C.Name;\n",
    "\"\"\", con=connection)\n",
    "\n"
   ]
  },
  {
   "cell_type": "markdown",
   "metadata": {},
   "source": [
    "### Querys för dataframes över försäljning över olika år (kollar Juni --> Juni, mellan 2012 och 2014)"
   ]
  },
  {
   "cell_type": "code",
   "execution_count": 409,
   "metadata": {},
   "outputs": [],
   "source": [
    "#2011 - 2012\n",
    "sold_2011_2012 = pd.read_sql(sql=\"\"\"\n",
    "SELECT \n",
    "\tSUM(B.LineTotal) AS Amount\n",
    "\t, E.Name\n",
    "FROM Sales.SalesOrderHeader AS A\n",
    "INNER JOIN Sales.SalesOrderDetail AS B\n",
    "\tON A.SalesOrderID = B.SalesOrderID\n",
    "LEFT JOIN Production.Product AS C\n",
    "\tON C.ProductID = B.ProductID\n",
    "LEFT JOIN Production.ProductSubcategory AS D\n",
    "\tON C.ProductSubcategoryID = D.ProductSubcategoryID\n",
    "LEFT JOIN Production.ProductCategory AS E\n",
    "\tON D.ProductCategoryID = E.ProductCategoryID\n",
    "WHERE OrderDate > '2011-05-31' AND OrderDate < '2012-05-31'\n",
    "\n",
    "GROUP BY E.Name\n",
    "ORDER BY Amount DESC\n",
    "\"\"\", con=connection)\n"
   ]
  },
  {
   "cell_type": "code",
   "execution_count": 410,
   "metadata": {},
   "outputs": [],
   "source": [
    "#2012 - 2013\n",
    "sold_2012_2013 = pd.read_sql(sql=\"\"\"\n",
    "SELECT \n",
    "\tSUM(B.LineTotal) AS Amount\n",
    "\t, E.Name\n",
    "FROM Sales.SalesOrderHeader AS A\n",
    "INNER JOIN Sales.SalesOrderDetail AS B\n",
    "\tON A.SalesOrderID = B.SalesOrderID\n",
    "LEFT JOIN Production.Product AS C\n",
    "\tON C.ProductID = B.ProductID\n",
    "LEFT JOIN Production.ProductSubcategory AS D\n",
    "\tON C.ProductSubcategoryID = D.ProductSubcategoryID\n",
    "LEFT JOIN Production.ProductCategory AS E\n",
    "\tON D.ProductCategoryID = E.ProductCategoryID\n",
    "WHERE OrderDate > '2012-05-31' AND OrderDate < '2013-05-31'\n",
    "\n",
    "GROUP BY E.Name\n",
    "ORDER BY Amount DESC\n",
    "\"\"\", con=connection)"
   ]
  },
  {
   "cell_type": "code",
   "execution_count": 411,
   "metadata": {},
   "outputs": [],
   "source": [
    "#2013 -2014\n",
    "sold_2013_2014 = pd.read_sql(sql=\"\"\"\n",
    "SELECT \n",
    "\tSUM(B.LineTotal) AS Amount\n",
    "\t, E.Name\n",
    "FROM Sales.SalesOrderHeader AS A\n",
    "INNER JOIN Sales.SalesOrderDetail AS B\n",
    "\tON A.SalesOrderID = B.SalesOrderID\n",
    "LEFT JOIN Production.Product AS C\n",
    "\tON C.ProductID = B.ProductID\n",
    "LEFT JOIN Production.ProductSubcategory AS D\n",
    "\tON C.ProductSubcategoryID = D.ProductSubcategoryID\n",
    "LEFT JOIN Production.ProductCategory AS E\n",
    "\tON D.ProductCategoryID = E.ProductCategoryID\n",
    "WHERE OrderDate > '2013-05-31' AND OrderDate < '2014-05-31'\n",
    "\n",
    "GROUP BY E.Name\n",
    "ORDER BY Amount DESC\n",
    "\"\"\", con=connection)"
   ]
  },
  {
   "cell_type": "markdown",
   "metadata": {},
   "source": [
    "### Querys för dataframes över anställda och regioner som företaget är verksamt i."
   ]
  },
  {
   "cell_type": "code",
   "execution_count": 412,
   "metadata": {},
   "outputs": [],
   "source": [
    "# Employees\n",
    "employees = pd.read_sql(sql=\"\"\"\n",
    "SELECT\n",
    "\tC.DepartmentID\n",
    "\t,C.Name\n",
    "\t,COUNT(C.Name) AS Employes\n",
    "\t\n",
    "FROM\n",
    "\tHumanResources.Employee AS A\n",
    "\tINNER JOIN HumanResources.EmployeeDepartmentHistory AS B\n",
    "\t\tON A.BusinessEntityID = B.BusinessEntityID\n",
    "\tLEFT JOIN HumanResources.Department AS C\n",
    "\t\tON B.DepartmentID = C.DepartmentID\n",
    "\n",
    "GROUP BY C.Name, C.DepartmentID, C.Name\n",
    "ORDER BY C.DepartmentID\n",
    "\"\"\", con=connection)"
   ]
  },
  {
   "cell_type": "code",
   "execution_count": 413,
   "metadata": {},
   "outputs": [],
   "source": [
    "# Territory groups\n",
    "territory_groups = pd.read_sql(sql=\"\"\"\n",
    "                               \n",
    "SELECT \n",
    "\t[Name]\n",
    "\t,CountryRegionCode\n",
    "\t,[Group]\n",
    "\n",
    "FROM Sales.SalesTerritory                               \n",
    "                               \n",
    "\"\"\", con=connection)"
   ]
  },
  {
   "cell_type": "markdown",
   "metadata": {},
   "source": [
    "### Arbete med kod"
   ]
  },
  {
   "cell_type": "code",
   "execution_count": 414,
   "metadata": {},
   "outputs": [],
   "source": [
    "# Creating lists for the colors and types of bikes.\n",
    "\n",
    "colors = (eu_overview.iloc[:,1]).unique()\n",
    "types = (eu_overview.iloc[:,0]).unique()"
   ]
  },
  {
   "cell_type": "code",
   "execution_count": 415,
   "metadata": {},
   "outputs": [],
   "source": [
    "#Creating lists for the number of bikes sold in EU / NA\n",
    "\n",
    "sold_in_na = na_overview['AmountSold'].sum(axis=0)\n",
    "sold_in_eu = eu_overview['AmountSold'].sum(axis=0)\n",
    "\n",
    "#Creating dataframe for how the bikes sold in each region differs by color\n",
    "sold_by_color_na = na_overview.groupby(['Color']).sum('AmountSold')\n",
    "sold_by_color_eu = eu_overview.groupby(['Color']).sum('AmountSold')\n",
    "\n",
    "#Adding fraction and region columns to dataframe\n",
    "sold_by_color_eu['Fraction'] = sold_by_color_eu['AmountSold'] / sold_in_eu\n",
    "sold_by_color_eu['Region'] = 'EU'\n",
    "sold_by_color_na['Fraction'] = sold_by_color_na['AmountSold'] / sold_in_na\n",
    "sold_by_color_na['Region'] = 'NA'\n",
    "\n",
    "#Creating dataframe for how the bikes sold in each region differs by type\n",
    "sold_by_type_na = na_overview.groupby(['Name']).sum('AmountSold')\n",
    "sold_by_type_eu = eu_overview.groupby(['Name']).sum('AmountSold')\n",
    "\n",
    "#Adding fraction and region columns to dataframe\n",
    "sold_by_type_eu['Fraction'] = sold_by_type_eu['AmountSold'] / sold_in_eu\n",
    "sold_by_type_eu['Region'] = 'EU'\n",
    "sold_by_type_na['Fraction'] = sold_by_type_na['AmountSold'] / sold_in_na\n",
    "sold_by_type_na['Region'] = 'NA'\n"
   ]
  },
  {
   "cell_type": "code",
   "execution_count": 416,
   "metadata": {},
   "outputs": [],
   "source": [
    "#Creating variables for region/color information, used for statistical calculations when comparing colors sold between regions. \n",
    "eu_black = sold_by_color_eu.at['Black', 'AmountSold']\n",
    "eu_blue = sold_by_color_eu.at['Blue', 'AmountSold']\n",
    "eu_red = sold_by_color_eu.at['Red', 'AmountSold']\n",
    "eu_silver = sold_by_color_eu.at['Silver', 'AmountSold']\n",
    "eu_yellow = sold_by_color_eu.at['Yellow', 'AmountSold']\n",
    "\n",
    "na_black = sold_by_color_na.at['Black', 'AmountSold']\n",
    "na_blue = sold_by_color_na.at['Blue', 'AmountSold']\n",
    "na_red = sold_by_color_na.at['Red', 'AmountSold']\n",
    "na_silver = sold_by_color_na.at['Silver', 'AmountSold']\n",
    "na_yellow = sold_by_color_na.at['Yellow', 'AmountSold']"
   ]
  },
  {
   "cell_type": "code",
   "execution_count": 417,
   "metadata": {},
   "outputs": [],
   "source": [
    "#Creating variables for region/type information, used for statistical calculations when comparing types sold between regions. \n",
    "\n",
    "na_touring = sold_by_type_na.at['Touring Bikes','AmountSold']\n",
    "na_road = sold_by_type_na.at['Road Bikes','AmountSold']\n",
    "na_mountain_bike = sold_by_type_na.at['Mountain Bikes','AmountSold']\n",
    "\n",
    "eu_touring =sold_by_type_eu.at['Touring Bikes','AmountSold']\n",
    "eu_road = sold_by_type_eu.at['Road Bikes','AmountSold']\n",
    "eu_mountain_bike = sold_by_type_eu.at['Mountain Bikes','AmountSold']"
   ]
  },
  {
   "cell_type": "code",
   "execution_count": 418,
   "metadata": {},
   "outputs": [],
   "source": [
    "sold_by_color_eu = sold_by_color_eu.reset_index()\n",
    "sold_by_color_na = sold_by_color_na.reset_index()\n",
    "\n",
    "sold_by_type_eu = sold_by_type_eu.reset_index()\n",
    "sold_by_type_na = sold_by_type_na.reset_index()"
   ]
  },
  {
   "cell_type": "code",
   "execution_count": 419,
   "metadata": {},
   "outputs": [],
   "source": [
    "# Creating a function for calculating confidence intervals when comparing proportions from two diffrent samples. \n",
    "# Takes 4 inputs, num2 and num4 are the diffrent sample sizes, num1 and num3 are the part of the proporiton. \n",
    "# Returns a float representing how far from the diffrence between the proportions the interval stretches. \n",
    "\n",
    "def calc_stat(num1: int, num2: int, num3: int, num4: int):\n",
    "    p_1 = num1 / num2\n",
    "    p_2 = num3 / num4\n",
    "    \n",
    "    first_limit = (p_1 - p_2) + 1.96 * ((p_2*(1-p_2)/num4) + (p_1*(1-p_1)/num2) )**0.5\n",
    "    \n",
    "    second_limit = (p_1 - p_2) - 1.96 * ((p_2*(1-p_2)/num4) + (p_1*(1-p_1)/num2) )**0.5\n",
    "\n",
    "    error_bar_value = (1.96 * ((p_2*(1-p_2)/num4) + (p_1*(1-p_1)/num2) )**0.5)\n",
    "    return (error_bar_value)"
   ]
  },
  {
   "cell_type": "code",
   "execution_count": 420,
   "metadata": {},
   "outputs": [],
   "source": [
    "#Calculating confidence intervals using the formula above for colors.\n",
    "result_black_bike = calc_stat(eu_black, sold_in_eu, na_black, sold_in_na)\n",
    "result_blue_bike = calc_stat(eu_blue, sold_in_eu, na_blue, sold_in_na)\n",
    "result_red_bike = calc_stat(eu_red, sold_in_eu, na_red, sold_in_na)\n",
    "result_silver_bike = calc_stat(eu_silver, sold_in_eu, na_silver, sold_in_na)\n",
    "result_yellow_bike = calc_stat(eu_yellow, sold_in_eu, na_yellow, sold_in_na)\n",
    "\n",
    "#Putting all the results in a list\n",
    "color_errors = [result_black_bike, result_blue_bike, result_red_bike, result_silver_bike, result_yellow_bike]\n"
   ]
  },
  {
   "cell_type": "code",
   "execution_count": 421,
   "metadata": {},
   "outputs": [],
   "source": [
    "#Calculating confidence intervals using the formula above for types of bike.\n",
    "result_mountain_bike = calc_stat(eu_mountain_bike, sold_in_eu, na_mountain_bike, sold_in_na)\n",
    "result_touring_bike = calc_stat(eu_touring, sold_in_eu, na_touring, sold_in_na)\n",
    "result_road_bike = calc_stat(eu_road, sold_in_eu, na_road, sold_in_na)\n",
    "\n",
    "type_errors = [result_mountain_bike, result_touring_bike, result_road_bike]"
   ]
  },
  {
   "cell_type": "code",
   "execution_count": 422,
   "metadata": {},
   "outputs": [
    {
     "data": {
      "text/html": [
       "<div>\n",
       "<style scoped>\n",
       "    .dataframe tbody tr th:only-of-type {\n",
       "        vertical-align: middle;\n",
       "    }\n",
       "\n",
       "    .dataframe tbody tr th {\n",
       "        vertical-align: top;\n",
       "    }\n",
       "\n",
       "    .dataframe thead th {\n",
       "        text-align: right;\n",
       "    }\n",
       "</style>\n",
       "<table border=\"1\" class=\"dataframe\">\n",
       "  <thead>\n",
       "    <tr style=\"text-align: right;\">\n",
       "      <th></th>\n",
       "      <th>Name</th>\n",
       "      <th>AmountSold</th>\n",
       "      <th>Fraction</th>\n",
       "      <th>Region</th>\n",
       "    </tr>\n",
       "  </thead>\n",
       "  <tbody>\n",
       "    <tr>\n",
       "      <th>0</th>\n",
       "      <td>Mountain Bikes</td>\n",
       "      <td>4126</td>\n",
       "      <td>0.271662</td>\n",
       "      <td>EU</td>\n",
       "    </tr>\n",
       "    <tr>\n",
       "      <th>1</th>\n",
       "      <td>Road Bikes</td>\n",
       "      <td>6369</td>\n",
       "      <td>0.419344</td>\n",
       "      <td>EU</td>\n",
       "    </tr>\n",
       "    <tr>\n",
       "      <th>2</th>\n",
       "      <td>Touring Bikes</td>\n",
       "      <td>4693</td>\n",
       "      <td>0.308994</td>\n",
       "      <td>EU</td>\n",
       "    </tr>\n",
       "  </tbody>\n",
       "</table>\n",
       "</div>"
      ],
      "text/plain": [
       "             Name  AmountSold  Fraction Region\n",
       "0  Mountain Bikes        4126  0.271662     EU\n",
       "1      Road Bikes        6369  0.419344     EU\n",
       "2   Touring Bikes        4693  0.308994     EU"
      ]
     },
     "execution_count": 422,
     "metadata": {},
     "output_type": "execute_result"
    }
   ],
   "source": [
    "#Creating a dataframes for comparing color percentages between EU/NA\n",
    "\n",
    "temp_frames = [sold_by_color_eu, sold_by_color_na]\n",
    "comparission_color_eu_na = pd.concat(temp_frames)\n",
    "comparission_color_eu_na.reset_index()\n",
    "\n",
    "diffrence_fractions_colors = sold_by_color_eu[['Color']]\n",
    "eu_fractions = pd.Series(sold_by_color_eu['Fraction'])\n",
    "na_fractions = pd.Series(sold_by_color_na['Fraction'])\n",
    "\n",
    "results_diffrence_fractions_colors = diffrence_fractions_colors.join(eu_fractions)\n",
    "results_diffrence_fractions_colors = results_diffrence_fractions_colors.rename(columns={'Fraction': 'eu_Fractions'})\n",
    "results_diffrence_fractions_colors['na_Fractions'] = na_fractions\n",
    "results_diffrence_fractions_colors['Diffrence'] = results_diffrence_fractions_colors['eu_Fractions'] - results_diffrence_fractions_colors['na_Fractions']\n",
    "\n",
    "sold_by_type_eu"
   ]
  },
  {
   "cell_type": "code",
   "execution_count": 423,
   "metadata": {},
   "outputs": [],
   "source": [
    "temp_frames = [sold_by_type_eu, sold_by_type_na]\n",
    "comparission_type_eu_na = pd.concat(temp_frames)\n",
    "comparission_type_eu_na.reset_index()\n",
    "\n",
    "diffrence_fractions_types = sold_by_type_eu[['Name']]\n",
    "eu_fractions = pd.Series(sold_by_type_eu['Fraction'])\n",
    "na_fractions = pd.Series(sold_by_type_na['Fraction'])\n",
    "\n",
    "results_diffrence_fractions_types = diffrence_fractions_types.join(eu_fractions)\n",
    "results_diffrence_fractions_types = results_diffrence_fractions_types.rename(columns={'Fraction': 'eu_Fractions'})\n",
    "results_diffrence_fractions_types['na_Fractions'] = na_fractions\n",
    "results_diffrence_fractions_types['Diffrence'] = results_diffrence_fractions_types['eu_Fractions'] - results_diffrence_fractions_types['na_Fractions']"
   ]
  },
  {
   "cell_type": "markdown",
   "metadata": {},
   "source": [
    "### AdventureWorks 2022"
   ]
  },
  {
   "cell_type": "markdown",
   "metadata": {},
   "source": [
    "Databasen AdventureWorks2022 är en databas för företaget AdventureWorks som hjälper dom med hanteringen av produkter, kunder, ordrar, anställda med mera. \n",
    "De större schema-kategorierna i databasen är Sales och Production, utöver dessa finns också HumanResources, Person och Purchasing som schemas. \n",
    "\n",
    "Företaget har 290 anställda och majoriteten av sin verksamhet i Nordamerika, men är också närvarande i Europa och Australien. Majoriteten av de anställda arbetar inom produktion.\n",
    "\n",
    "AdventureWorks säljer huvudsakligen cyklar (i tre kategorier, Road, Touring, Mountain Bike) men också cykeldelar, kläder och assocearer. Över tid kan vi se att de övriga kategorierna tagit ikapp cyklar gällande försäljningstotal (i $, inte antal)."
   ]
  },
  {
   "cell_type": "code",
   "execution_count": 424,
   "metadata": {},
   "outputs": [
    {
     "data": {
      "image/png": "[encoded data removed]",
      "text/plain": [
       "<Figure size 2000x500 with 3 Axes>"
      ]
     },
     "metadata": {},
     "output_type": "display_data"
    }
   ],
   "source": [
    "fig = plt.figure(layout ='constrained', figsize = (20, 5))\n",
    "\n",
    "\n",
    "ax1 = fig.add_subplot(1,3,1)\n",
    "plt.yscale(\"log\")\n",
    "ax1.bar(sold_2011_2012['Name'], sold_2011_2012['Amount'], color=('red', 'green', 'blue', 'orange'))\n",
    "ax1.set_title('Revenue by category 2011-2012')\n",
    "ax1.set_ylim(1*(10**4), 5*(10**7))\n",
    "\n",
    "ax2 = fig.add_subplot(1,3,2)\n",
    "plt.yscale(\"log\")\n",
    "ax2.bar(sold_2012_2013['Name'], sold_2012_2013['Amount'], color=('red', 'green', 'blue', 'orange'))\n",
    "ax2.set_title('Revenue by category 2012-2013')\n",
    "ax2.set_ylim(1*(10**4), 5*(10**7))\n",
    "\n",
    "\n",
    "ax3 = fig.add_subplot(1,3,3)\n",
    "plt.yscale(\"log\")\n",
    "ax3.bar(sold_2013_2014['Name'], sold_2013_2014['Amount'], color=('red', 'green', 'blue', 'orange'))\n",
    "ax3.set_title('Revenue by category 2013-2014')\n",
    "ax3.set_ylim(1*(10**4), 5*(10**7))\n",
    "\n",
    "plt.show()\n"
   ]
  },
  {
   "cell_type": "code",
   "execution_count": 448,
   "metadata": {},
   "outputs": [
    {
     "data": {
      "text/html": [
       "<div>\n",
       "<style scoped>\n",
       "    .dataframe tbody tr th:only-of-type {\n",
       "        vertical-align: middle;\n",
       "    }\n",
       "\n",
       "    .dataframe tbody tr th {\n",
       "        vertical-align: top;\n",
       "    }\n",
       "\n",
       "    .dataframe thead th {\n",
       "        text-align: right;\n",
       "    }\n",
       "</style>\n",
       "<table border=\"1\" class=\"dataframe\">\n",
       "  <thead>\n",
       "    <tr style=\"text-align: right;\">\n",
       "      <th></th>\n",
       "      <th>Amount_2011-2012</th>\n",
       "      <th>Amount_2012-2013</th>\n",
       "      <th>Amount_2013-2014</th>\n",
       "    </tr>\n",
       "    <tr>\n",
       "      <th>Name</th>\n",
       "      <th></th>\n",
       "      <th></th>\n",
       "      <th></th>\n",
       "    </tr>\n",
       "  </thead>\n",
       "  <tbody>\n",
       "    <tr>\n",
       "      <th>Bikes</th>\n",
       "      <td>2.343933e+07</td>\n",
       "      <td>2.830726e+07</td>\n",
       "      <td>4.240839e+07</td>\n",
       "    </tr>\n",
       "    <tr>\n",
       "      <th>Components</th>\n",
       "      <td>1.643352e+06</td>\n",
       "      <td>4.750333e+06</td>\n",
       "      <td>5.377382e+06</td>\n",
       "    </tr>\n",
       "    <tr>\n",
       "      <th>Clothing</th>\n",
       "      <td>1.366241e+05</td>\n",
       "      <td>7.597573e+05</td>\n",
       "      <td>1.204044e+06</td>\n",
       "    </tr>\n",
       "    <tr>\n",
       "      <th>Accessories</th>\n",
       "      <td>4.559679e+04</td>\n",
       "      <td>1.456130e+05</td>\n",
       "      <td>1.044997e+06</td>\n",
       "    </tr>\n",
       "  </tbody>\n",
       "</table>\n",
       "</div>"
      ],
      "text/plain": [
       "             Amount_2011-2012  Amount_2012-2013  Amount_2013-2014\n",
       "Name                                                             \n",
       "Bikes            2.343933e+07      2.830726e+07      4.240839e+07\n",
       "Components       1.643352e+06      4.750333e+06      5.377382e+06\n",
       "Clothing         1.366241e+05      7.597573e+05      1.204044e+06\n",
       "Accessories      4.559679e+04      1.456130e+05      1.044997e+06"
      ]
     },
     "execution_count": 448,
     "metadata": {},
     "output_type": "execute_result"
    }
   ],
   "source": [
    "sales_2011_2014 = sold_2011_2012\n",
    "sales_2011_2014 = sales_2011_2014.merge(sold_2012_2013, how='left', on='Name', suffixes=('_2011-2012', '_2012-2013'))\n",
    "sales_2011_2014 = sales_2011_2014.merge(sold_2013_2014, how='left', on='Name')\n",
    "sales_2011_2014 = sales_2011_2014.rename(columns={'Amount': 'Amount_2013-2014'})\n",
    "sales_2011_2014 = sales_2011_2014.set_index(['Name'])\n",
    "sales_2011_2014"
   ]
  },
  {
   "cell_type": "code",
   "execution_count": 428,
   "metadata": {},
   "outputs": [
    {
     "data": {
      "text/html": [
       "<div>\n",
       "<style scoped>\n",
       "    .dataframe tbody tr th:only-of-type {\n",
       "        vertical-align: middle;\n",
       "    }\n",
       "\n",
       "    .dataframe tbody tr th {\n",
       "        vertical-align: top;\n",
       "    }\n",
       "\n",
       "    .dataframe thead th {\n",
       "        text-align: right;\n",
       "    }\n",
       "</style>\n",
       "<table border=\"1\" class=\"dataframe\">\n",
       "  <thead>\n",
       "    <tr style=\"text-align: right;\">\n",
       "      <th></th>\n",
       "      <th>DepartmentID</th>\n",
       "      <th>Name</th>\n",
       "      <th>Employes</th>\n",
       "    </tr>\n",
       "  </thead>\n",
       "  <tbody>\n",
       "    <tr>\n",
       "      <th>0</th>\n",
       "      <td>1</td>\n",
       "      <td>Engineering</td>\n",
       "      <td>7</td>\n",
       "    </tr>\n",
       "    <tr>\n",
       "      <th>1</th>\n",
       "      <td>2</td>\n",
       "      <td>Tool Design</td>\n",
       "      <td>4</td>\n",
       "    </tr>\n",
       "    <tr>\n",
       "      <th>2</th>\n",
       "      <td>3</td>\n",
       "      <td>Sales</td>\n",
       "      <td>18</td>\n",
       "    </tr>\n",
       "    <tr>\n",
       "      <th>3</th>\n",
       "      <td>4</td>\n",
       "      <td>Marketing</td>\n",
       "      <td>10</td>\n",
       "    </tr>\n",
       "    <tr>\n",
       "      <th>4</th>\n",
       "      <td>5</td>\n",
       "      <td>Purchasing</td>\n",
       "      <td>13</td>\n",
       "    </tr>\n",
       "    <tr>\n",
       "      <th>5</th>\n",
       "      <td>6</td>\n",
       "      <td>Research and Development</td>\n",
       "      <td>4</td>\n",
       "    </tr>\n",
       "    <tr>\n",
       "      <th>6</th>\n",
       "      <td>7</td>\n",
       "      <td>Production</td>\n",
       "      <td>180</td>\n",
       "    </tr>\n",
       "    <tr>\n",
       "      <th>7</th>\n",
       "      <td>8</td>\n",
       "      <td>Production Control</td>\n",
       "      <td>6</td>\n",
       "    </tr>\n",
       "    <tr>\n",
       "      <th>8</th>\n",
       "      <td>9</td>\n",
       "      <td>Human Resources</td>\n",
       "      <td>6</td>\n",
       "    </tr>\n",
       "    <tr>\n",
       "      <th>9</th>\n",
       "      <td>10</td>\n",
       "      <td>Finance</td>\n",
       "      <td>11</td>\n",
       "    </tr>\n",
       "    <tr>\n",
       "      <th>10</th>\n",
       "      <td>11</td>\n",
       "      <td>Information Services</td>\n",
       "      <td>10</td>\n",
       "    </tr>\n",
       "    <tr>\n",
       "      <th>11</th>\n",
       "      <td>12</td>\n",
       "      <td>Document Control</td>\n",
       "      <td>5</td>\n",
       "    </tr>\n",
       "    <tr>\n",
       "      <th>12</th>\n",
       "      <td>13</td>\n",
       "      <td>Quality Assurance</td>\n",
       "      <td>7</td>\n",
       "    </tr>\n",
       "    <tr>\n",
       "      <th>13</th>\n",
       "      <td>14</td>\n",
       "      <td>Facilities and Maintenance</td>\n",
       "      <td>7</td>\n",
       "    </tr>\n",
       "    <tr>\n",
       "      <th>14</th>\n",
       "      <td>15</td>\n",
       "      <td>Shipping and Receiving</td>\n",
       "      <td>6</td>\n",
       "    </tr>\n",
       "    <tr>\n",
       "      <th>15</th>\n",
       "      <td>16</td>\n",
       "      <td>Executive</td>\n",
       "      <td>2</td>\n",
       "    </tr>\n",
       "  </tbody>\n",
       "</table>\n",
       "</div>"
      ],
      "text/plain": [
       "    DepartmentID                        Name  Employes\n",
       "0              1                 Engineering         7\n",
       "1              2                 Tool Design         4\n",
       "2              3                       Sales        18\n",
       "3              4                   Marketing        10\n",
       "4              5                  Purchasing        13\n",
       "5              6    Research and Development         4\n",
       "6              7                  Production       180\n",
       "7              8          Production Control         6\n",
       "8              9             Human Resources         6\n",
       "9             10                     Finance        11\n",
       "10            11        Information Services        10\n",
       "11            12            Document Control         5\n",
       "12            13           Quality Assurance         7\n",
       "13            14  Facilities and Maintenance         7\n",
       "14            15      Shipping and Receiving         6\n",
       "15            16                   Executive         2"
      ]
     },
     "execution_count": 428,
     "metadata": {},
     "output_type": "execute_result"
    }
   ],
   "source": [
    "employees"
   ]
  },
  {
   "cell_type": "code",
   "execution_count": 429,
   "metadata": {},
   "outputs": [
    {
     "data": {
      "text/html": [
       "<div>\n",
       "<style scoped>\n",
       "    .dataframe tbody tr th:only-of-type {\n",
       "        vertical-align: middle;\n",
       "    }\n",
       "\n",
       "    .dataframe tbody tr th {\n",
       "        vertical-align: top;\n",
       "    }\n",
       "\n",
       "    .dataframe thead th {\n",
       "        text-align: right;\n",
       "    }\n",
       "</style>\n",
       "<table border=\"1\" class=\"dataframe\">\n",
       "  <thead>\n",
       "    <tr style=\"text-align: right;\">\n",
       "      <th></th>\n",
       "      <th>Name</th>\n",
       "      <th>CountryRegionCode</th>\n",
       "      <th>Group</th>\n",
       "    </tr>\n",
       "  </thead>\n",
       "  <tbody>\n",
       "    <tr>\n",
       "      <th>0</th>\n",
       "      <td>Northwest</td>\n",
       "      <td>US</td>\n",
       "      <td>North America</td>\n",
       "    </tr>\n",
       "    <tr>\n",
       "      <th>1</th>\n",
       "      <td>Northeast</td>\n",
       "      <td>US</td>\n",
       "      <td>North America</td>\n",
       "    </tr>\n",
       "    <tr>\n",
       "      <th>2</th>\n",
       "      <td>Central</td>\n",
       "      <td>US</td>\n",
       "      <td>North America</td>\n",
       "    </tr>\n",
       "    <tr>\n",
       "      <th>3</th>\n",
       "      <td>Southwest</td>\n",
       "      <td>US</td>\n",
       "      <td>North America</td>\n",
       "    </tr>\n",
       "    <tr>\n",
       "      <th>4</th>\n",
       "      <td>Southeast</td>\n",
       "      <td>US</td>\n",
       "      <td>North America</td>\n",
       "    </tr>\n",
       "    <tr>\n",
       "      <th>5</th>\n",
       "      <td>Canada</td>\n",
       "      <td>CA</td>\n",
       "      <td>North America</td>\n",
       "    </tr>\n",
       "    <tr>\n",
       "      <th>6</th>\n",
       "      <td>France</td>\n",
       "      <td>FR</td>\n",
       "      <td>Europe</td>\n",
       "    </tr>\n",
       "    <tr>\n",
       "      <th>7</th>\n",
       "      <td>Germany</td>\n",
       "      <td>DE</td>\n",
       "      <td>Europe</td>\n",
       "    </tr>\n",
       "    <tr>\n",
       "      <th>8</th>\n",
       "      <td>Australia</td>\n",
       "      <td>AU</td>\n",
       "      <td>Pacific</td>\n",
       "    </tr>\n",
       "    <tr>\n",
       "      <th>9</th>\n",
       "      <td>United Kingdom</td>\n",
       "      <td>GB</td>\n",
       "      <td>Europe</td>\n",
       "    </tr>\n",
       "  </tbody>\n",
       "</table>\n",
       "</div>"
      ],
      "text/plain": [
       "             Name CountryRegionCode          Group\n",
       "0       Northwest                US  North America\n",
       "1       Northeast                US  North America\n",
       "2         Central                US  North America\n",
       "3       Southwest                US  North America\n",
       "4       Southeast                US  North America\n",
       "5          Canada                CA  North America\n",
       "6          France                FR         Europe\n",
       "7         Germany                DE         Europe\n",
       "8       Australia                AU        Pacific\n",
       "9  United Kingdom                GB         Europe"
      ]
     },
     "execution_count": 429,
     "metadata": {},
     "output_type": "execute_result"
    }
   ],
   "source": [
    "territory_groups"
   ]
  },
  {
   "cell_type": "markdown",
   "metadata": {},
   "source": [
    "### Statistisk jämförelse mellan Nordamerika och Europa\n",
    "\n",
    "Jag har kollat närmre på försäljningen av cyklar från AdventureWorks och hur den skiljer sig mellan Nordarmerika och Europa. \n",
    "Först presenteras ett antal dataframes som visar hur försäljningen sett ut i Nordamerika (NA) och Europa (EU) var för sig. \n",
    "Sedan kommer ett antal diagram där regionerna jämförs. Då regionerna har skiljer sig markant i hur mycket som sålts så kommer de flesta diagrammen kolla på andelar istället för antal. \n",
    "\n",
    "De statistiska jämförelserna so gjordes kollade på om färg på cykeloch typ av cykel skiljer sig mellan regionerna. Jämförelserna beräknas som skillnaden i andelar mellan två olika prover, med ett 95%-konfidensintervall (z=1.96). I de senare diagrammen visas error-bars för att synliggöra att det fanns statistiskt signifikanta skillnader. \n"
   ]
  },
  {
   "cell_type": "markdown",
   "metadata": {},
   "source": [
    "#### Dataframes"
   ]
  },
  {
   "cell_type": "code",
   "execution_count": 430,
   "metadata": {},
   "outputs": [
    {
     "name": "stdout",
     "output_type": "stream",
     "text": [
      "Försäljning i Nordamerika\n"
     ]
    },
    {
     "data": {
      "text/html": [
       "<div>\n",
       "<style scoped>\n",
       "    .dataframe tbody tr th:only-of-type {\n",
       "        vertical-align: middle;\n",
       "    }\n",
       "\n",
       "    .dataframe tbody tr th {\n",
       "        vertical-align: top;\n",
       "    }\n",
       "\n",
       "    .dataframe thead th {\n",
       "        text-align: right;\n",
       "    }\n",
       "</style>\n",
       "<table border=\"1\" class=\"dataframe\">\n",
       "  <thead>\n",
       "    <tr style=\"text-align: right;\">\n",
       "      <th></th>\n",
       "      <th>Name</th>\n",
       "      <th>Color</th>\n",
       "      <th>AmountSold</th>\n",
       "    </tr>\n",
       "  </thead>\n",
       "  <tbody>\n",
       "    <tr>\n",
       "      <th>0</th>\n",
       "      <td>Mountain Bikes</td>\n",
       "      <td>Black</td>\n",
       "      <td>12285</td>\n",
       "    </tr>\n",
       "    <tr>\n",
       "      <th>1</th>\n",
       "      <td>Road Bikes</td>\n",
       "      <td>Black</td>\n",
       "      <td>13807</td>\n",
       "    </tr>\n",
       "    <tr>\n",
       "      <th>2</th>\n",
       "      <td>Touring Bikes</td>\n",
       "      <td>Blue</td>\n",
       "      <td>4698</td>\n",
       "    </tr>\n",
       "    <tr>\n",
       "      <th>3</th>\n",
       "      <td>Road Bikes</td>\n",
       "      <td>Red</td>\n",
       "      <td>15431</td>\n",
       "    </tr>\n",
       "    <tr>\n",
       "      <th>4</th>\n",
       "      <td>Mountain Bikes</td>\n",
       "      <td>Silver</td>\n",
       "      <td>10480</td>\n",
       "    </tr>\n",
       "    <tr>\n",
       "      <th>5</th>\n",
       "      <td>Road Bikes</td>\n",
       "      <td>Yellow</td>\n",
       "      <td>8984</td>\n",
       "    </tr>\n",
       "    <tr>\n",
       "      <th>6</th>\n",
       "      <td>Touring Bikes</td>\n",
       "      <td>Yellow</td>\n",
       "      <td>3367</td>\n",
       "    </tr>\n",
       "  </tbody>\n",
       "</table>\n",
       "</div>"
      ],
      "text/plain": [
       "             Name   Color  AmountSold\n",
       "0  Mountain Bikes   Black       12285\n",
       "1      Road Bikes   Black       13807\n",
       "2   Touring Bikes    Blue        4698\n",
       "3      Road Bikes     Red       15431\n",
       "4  Mountain Bikes  Silver       10480\n",
       "5      Road Bikes  Yellow        8984\n",
       "6   Touring Bikes  Yellow        3367"
      ]
     },
     "execution_count": 430,
     "metadata": {},
     "output_type": "execute_result"
    }
   ],
   "source": [
    "print('Försäljning i Nordamerika')\n",
    "na_overview\n"
   ]
  },
  {
   "cell_type": "code",
   "execution_count": 431,
   "metadata": {},
   "outputs": [
    {
     "name": "stdout",
     "output_type": "stream",
     "text": [
      "\n",
      "Försäljning i Europa\n"
     ]
    },
    {
     "data": {
      "text/html": [
       "<div>\n",
       "<style scoped>\n",
       "    .dataframe tbody tr th:only-of-type {\n",
       "        vertical-align: middle;\n",
       "    }\n",
       "\n",
       "    .dataframe tbody tr th {\n",
       "        vertical-align: top;\n",
       "    }\n",
       "\n",
       "    .dataframe thead th {\n",
       "        text-align: right;\n",
       "    }\n",
       "</style>\n",
       "<table border=\"1\" class=\"dataframe\">\n",
       "  <thead>\n",
       "    <tr style=\"text-align: right;\">\n",
       "      <th></th>\n",
       "      <th>Name</th>\n",
       "      <th>Color</th>\n",
       "      <th>AmountSold</th>\n",
       "    </tr>\n",
       "  </thead>\n",
       "  <tbody>\n",
       "    <tr>\n",
       "      <th>0</th>\n",
       "      <td>Mountain Bikes</td>\n",
       "      <td>Black</td>\n",
       "      <td>2079</td>\n",
       "    </tr>\n",
       "    <tr>\n",
       "      <th>1</th>\n",
       "      <td>Road Bikes</td>\n",
       "      <td>Black</td>\n",
       "      <td>2538</td>\n",
       "    </tr>\n",
       "    <tr>\n",
       "      <th>2</th>\n",
       "      <td>Touring Bikes</td>\n",
       "      <td>Blue</td>\n",
       "      <td>2635</td>\n",
       "    </tr>\n",
       "    <tr>\n",
       "      <th>3</th>\n",
       "      <td>Road Bikes</td>\n",
       "      <td>Red</td>\n",
       "      <td>1714</td>\n",
       "    </tr>\n",
       "    <tr>\n",
       "      <th>4</th>\n",
       "      <td>Mountain Bikes</td>\n",
       "      <td>Silver</td>\n",
       "      <td>2047</td>\n",
       "    </tr>\n",
       "    <tr>\n",
       "      <th>5</th>\n",
       "      <td>Road Bikes</td>\n",
       "      <td>Yellow</td>\n",
       "      <td>2117</td>\n",
       "    </tr>\n",
       "    <tr>\n",
       "      <th>6</th>\n",
       "      <td>Touring Bikes</td>\n",
       "      <td>Yellow</td>\n",
       "      <td>2058</td>\n",
       "    </tr>\n",
       "  </tbody>\n",
       "</table>\n",
       "</div>"
      ],
      "text/plain": [
       "             Name   Color  AmountSold\n",
       "0  Mountain Bikes   Black        2079\n",
       "1      Road Bikes   Black        2538\n",
       "2   Touring Bikes    Blue        2635\n",
       "3      Road Bikes     Red        1714\n",
       "4  Mountain Bikes  Silver        2047\n",
       "5      Road Bikes  Yellow        2117\n",
       "6   Touring Bikes  Yellow        2058"
      ]
     },
     "execution_count": 431,
     "metadata": {},
     "output_type": "execute_result"
    }
   ],
   "source": [
    "print('\\nFörsäljning i Europa')\n",
    "eu_overview"
   ]
  },
  {
   "cell_type": "markdown",
   "metadata": {},
   "source": [
    "#### Diagram över försäljningen i regionerna"
   ]
  },
  {
   "cell_type": "code",
   "execution_count": 432,
   "metadata": {},
   "outputs": [
    {
     "data": {
      "image/png": "[encoded data removed]",
      "text/plain": [
       "<Figure size 1000x500 with 2 Axes>"
      ]
     },
     "metadata": {},
     "output_type": "display_data"
    }
   ],
   "source": [
    "fig = plt.figure(layout ='constrained', figsize = (10, 5))\n",
    "ax1 = fig.add_subplot(1,2,1)\n",
    "ax2 = fig.add_subplot(1,2,2)\n",
    "\n",
    "ax1.bar(colors, sold_by_color_na['AmountSold'], label = 'NA', color = '#fd3c06')\n",
    "ax1.bar(colors, sold_by_color_eu['AmountSold'], label = 'EU', color = '#75bbfd')\n",
    "\n",
    "ax1.set_ylabel('Amount')\n",
    "ax1.legend(title='Region sold')\n",
    "ax1.set_title('Bikes sold, by color')\n",
    "\n",
    "ax2.bar(types, sold_by_type_na['AmountSold'], label = 'NA', color = '#fd3c06')\n",
    "ax2.bar(types, sold_by_type_eu['AmountSold'], label = 'EU', color = '#75bbfd')\n",
    "\n",
    "ax2.set_ylabel('Amount')\n",
    "ax2.legend(title='Region sold')\n",
    "ax2.set_title('Bikes sold, by type')\n",
    "\n",
    "plt.show()"
   ]
  },
  {
   "cell_type": "code",
   "execution_count": 433,
   "metadata": {},
   "outputs": [
    {
     "data": {
      "image/png": "[encoded data removed]",
      "text/plain": [
       "<Figure size 569.875x500 with 1 Axes>"
      ]
     },
     "metadata": {},
     "output_type": "display_data"
    }
   ],
   "source": [
    "ax = sns.catplot(data = comparission_color_eu_na, x = 'Color', y = 'Fraction', hue = 'Region', kind = 'bar', palette=['#75bbfd', '#fd3c06'])\n",
    "ax.set_ylabels('Shares')\n",
    "ax.set(title='Comparisson shares of bikes sold by color')\n",
    "plt.show()"
   ]
  },
  {
   "cell_type": "markdown",
   "metadata": {},
   "source": [
    "#### Diagram med jämförelse mellan andelar sålda i NA/EU"
   ]
  },
  {
   "cell_type": "code",
   "execution_count": 434,
   "metadata": {},
   "outputs": [
    {
     "data": {
      "image/png": "[encoded data removed]",
      "text/plain": [
       "<Figure size 500x500 with 1 Axes>"
      ]
     },
     "metadata": {},
     "output_type": "display_data"
    }
   ],
   "source": [
    "palette_colors = ['#3d1c02', '#0504aa', '#f7022a', '#c5c9c7', '#fffe40']\n",
    "ax = sns.catplot(data = results_diffrence_fractions_colors, x = 'Color', y = 'Diffrence', hue = 'Color', kind = 'bar', palette=palette_colors, legend=False)\n",
    "ax.set(title='Diffrence in shares of bikes sold by color')\n",
    "ax.fig.suptitle('EU-skew')\n",
    "ax.set_axis_labels('NA-skew')\n",
    "plt.axhline(y=0, linestyle='-')\n",
    "plt.errorbar(x = results_diffrence_fractions_colors['Color'], y = results_diffrence_fractions_colors['Diffrence'],\n",
    "            yerr=list(color_errors), fmt='none', c= 'black', capsize = 2)\n",
    "plt.ylim(-0.12, 0.12)\n",
    "plt.show()"
   ]
  },
  {
   "cell_type": "code",
   "execution_count": 435,
   "metadata": {},
   "outputs": [
    {
     "data": {
      "image/png": "[encoded data removed]",
      "text/plain": [
       "<Figure size 569.875x500 with 1 Axes>"
      ]
     },
     "metadata": {},
     "output_type": "display_data"
    }
   ],
   "source": [
    "ax = sns.catplot(data = comparission_type_eu_na, x = 'Name', y = 'Fraction', hue = 'Region', kind = 'bar', palette=['#75bbfd', '#fd3c06'])\n",
    "ax.set_ylabels('Shares')\n",
    "ax.set(title='Comparisson shares of bikes sold by type')\n",
    "plt.show()"
   ]
  },
  {
   "cell_type": "code",
   "execution_count": 436,
   "metadata": {},
   "outputs": [
    {
     "data": {
      "text/plain": [
       "(-0.22, 0.22)"
      ]
     },
     "execution_count": 436,
     "metadata": {},
     "output_type": "execute_result"
    },
    {
     "data": {
      "image/png": "[encoded data removed]",
      "text/plain": [
       "<Figure size 500x500 with 1 Axes>"
      ]
     },
     "metadata": {},
     "output_type": "display_data"
    }
   ],
   "source": [
    "palette_types = ['#658d6d', '#017a79', '#5cac2d']\n",
    "ax = sns.catplot(data = results_diffrence_fractions_types, x = 'Name', y = 'Diffrence', hue = 'Name', kind = 'bar', palette=palette_types, legend=False)\n",
    "ax.set(title='Diffrence of bikes sold by type in fractions')\n",
    "ax.fig.suptitle('EU-skew')\n",
    "ax.set_axis_labels('NA-skew')\n",
    "plt.axhline(y=0, linestyle='-')\n",
    "plt.errorbar(x = results_diffrence_fractions_types['Name'], y = results_diffrence_fractions_types['Diffrence'],\n",
    "            yerr=list(type_errors), fmt='none', c= 'black', capsize = 2)\n",
    "plt.ylim(-0.22, 0.22)"
   ]
  },
  {
   "cell_type": "markdown",
   "metadata": {},
   "source": [
    "### Analys\n",
    "\n",
    "Både när vi kollar på färg och typ av cykel kan vi se att det finns statistiskt säkerställda skillnader mellan regionerna (om error-bar täcker nollan indikerar det att resultatet kan bero på slumpen). I EU ser vi en preferens för gula och blåa cyklar när vi kollar färg och Touring-bikes för typ av cykel. \n",
    "\n",
    "Kollar vi på vilka kombinationer som finns mellan typer av cyklar och deras färger ser vi att Touring-bikes säljs i två färger: blå och gul. Med detta i bakhuvudet bör vi därför ställa oss mer tveksamma till färgpreferensen i EU. Vid ett köp av cykel bör typ av cykel vara det köparen bestämmer sig för först, och färg i efterhand. Det kan därför vara så att den statistiska skillnaden vi ser kring färger egentligen är ett resultat av hur populär touring-bikes är i EU. Detta gäller främst färgen blå, som endast är representerad bland touring-bikes. \n",
    "\n",
    "Om vi kollar närmre på road-bikes (som är mer populära i NA) så kommer dessa i tre färger: svart, röd och gul. Även om vi inte kan dra några större slutsatser kan vi ändå observera att det i EU säljs en högre andel gula än röda road-cyklar (men populärast är svart), medan det i NA är populärast med röd och minst populärt med gult. Detta skulle stärka påståendet att gul är mer populärt i EU (inte inte bara är ett resultat från Touring-bikes). \n",
    "\n",
    "Om AdventureWorks börjar expandera på den europeiska marknaden bör de vara uppmärksamma på skillnaden i vad som säljs (lyft fram Touring-bikes, se till att dessa är tillgängliga).\n",
    "Om AdventureWorks i teorin bestämmer sig för att utöka/ändra sortimentet för att bättre matcha en EU-marknad så kan ett större utbud av färger bland Touring-bikes vara rätt väg att gå, men även att introducera gula mountain-bikes (då vi med större säkerhet kan bedömma den som populär än färgen blå). "
   ]
  },
  {
   "cell_type": "markdown",
   "metadata": {},
   "source": [
    "#### Executive summary"
   ]
  },
  {
   "cell_type": "markdown",
   "metadata": {},
   "source": [
    "Även om den med marginal fortfarande är störst så tappar försäljningskategorin \"cyklar\" andelar jämfört med de andra kategorierna (Det säljs fortfarande ca10 gånger mer cyklar än komponenter som är näst största kategorin)\n",
    "\n",
    "Det finns skillnader mellan den nordamerikanska och europeiska marknaden, både gällande cykel-typer och färger. Jämför vi regionerna är det i europa mer populärt med färgen gul och cykeltypen touring-bikes, medan det i nordamerika är road-bikes och färgen röd som gäller. "
   ]
  },
  {
   "cell_type": "markdown",
   "metadata": {},
   "source": [
    "### Självvärdering\n",
    "\n",
    "#### Utmaningar\n",
    "Under kursens gång så har det tyvärr funnits många yttre omständigheter som gjort det svårt att arbeta så mycket som jag önskat med materialet. Av det jag gjort så skulle jag säga att största utmaningen var att få ordning på diagram och tabeller, det är något jag får träna mer på framöver.\n",
    "\n",
    "#### Betyg\n",
    "Jag tycker att jag gjort djupare analyser av den datan ja kollat på och därför närför når betyget VG. \n",
    "\n",
    "#### Tips\n",
    "Det finns många bra verktyg för att få hjälp, bli bättre på att använda dom! Behöver också bli bättre på att ge namn till saker i min kod, det blev rörigt mot slutet. "
   ]
  },
  {
   "cell_type": "markdown",
   "metadata": {},
   "source": []
  }
 ],
 "metadata": {
  "kernelspec": {
   "display_name": ".venv",
   "language": "python",
   "name": "python3"
  },
  "language_info": {
   "codemirror_mode": {
    "name": "ipython",
    "version": 3
   },
   "file_extension": ".py",
   "mimetype": "text/x-python",
   "name": "python",
   "nbconvert_exporter": "python",
   "pygments_lexer": "ipython3",
   "version": "3.13.0"
  }
 },
 "nbformat": 4,
 "nbformat_minor": 2
}
